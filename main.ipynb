{
 "cells": [
  {
   "cell_type": "markdown",
   "metadata": {},
   "source": [
    "# 这是一个建立各种机器学习模型的测试程序"
   ]
  },
  {
   "cell_type": "markdown",
   "metadata": {},
   "source": [
    "## 载入相关库"
   ]
  },
  {
   "cell_type": "code",
   "execution_count": 20,
   "metadata": {
    "collapsed": true
   },
   "outputs": [],
   "source": [
    "%matplotlib inline\n",
    "import numpy as np\n",
    "import pandas as pd\n",
    "from matplotlib.colors import ListedColormap\n",
    "import matplotlib.pyplot as plt\n",
    "\n",
    "from sklearn.model_selection import cross_val_score\n",
    "from sklearn.preprocessing import StandardScaler\n",
    "from sklearn.model_selection import train_test_split\n",
    "from sklearn.linear_model import Perceptron\n",
    "from sklearn.metrics import accuracy_score\n",
    "from sklearn.linear_model import LogisticRegression\n",
    "from sklearn.svm import SVC\n",
    "from sklearn.tree import DecisionTreeClassifier\n",
    "from sklearn.ensemble import RandomForestClassifier\n",
    "from sklearn.tree import export_graphviz\n",
    "from sklearn.neighbors import KNeighborsClassifier\n",
    "\n",
    "from sklearn.metrics import roc_curve, auc\n",
    "from sklearn.metrics import roc_auc_score, accuracy_score\n",
    "\n",
    "from scipy import interp\n",
    "from sklearn.model_selection import StratifiedKFold\n",
    "\n",
    "from sklearn.model_selection import GridSearchCV"
   ]
  },
  {
   "cell_type": "markdown",
   "metadata": {},
   "source": [
    "## 载入数据（特征+标签）"
   ]
  },
  {
   "cell_type": "code",
   "execution_count": 2,
   "metadata": {
    "collapsed": true
   },
   "outputs": [],
   "source": [
    "data = pd.read_csv(\"./DataSets/features.dat\",header=None)"
   ]
  },
  {
   "cell_type": "code",
   "execution_count": 3,
   "metadata": {
    "scrolled": true
   },
   "outputs": [
    {
     "data": {
      "text/html": [
       "<div>\n",
       "<style scoped>\n",
       "    .dataframe tbody tr th:only-of-type {\n",
       "        vertical-align: middle;\n",
       "    }\n",
       "\n",
       "    .dataframe tbody tr th {\n",
       "        vertical-align: top;\n",
       "    }\n",
       "\n",
       "    .dataframe thead th {\n",
       "        text-align: right;\n",
       "    }\n",
       "</style>\n",
       "<table border=\"1\" class=\"dataframe\">\n",
       "  <thead>\n",
       "    <tr style=\"text-align: right;\">\n",
       "      <th></th>\n",
       "      <th>0</th>\n",
       "      <th>1</th>\n",
       "      <th>2</th>\n",
       "      <th>3</th>\n",
       "      <th>4</th>\n",
       "      <th>5</th>\n",
       "      <th>6</th>\n",
       "      <th>7</th>\n",
       "      <th>8</th>\n",
       "      <th>9</th>\n",
       "      <th>...</th>\n",
       "      <th>51</th>\n",
       "      <th>52</th>\n",
       "      <th>53</th>\n",
       "      <th>54</th>\n",
       "      <th>55</th>\n",
       "      <th>56</th>\n",
       "      <th>57</th>\n",
       "      <th>58</th>\n",
       "      <th>59</th>\n",
       "      <th>60</th>\n",
       "    </tr>\n",
       "  </thead>\n",
       "  <tbody>\n",
       "    <tr>\n",
       "      <th>0</th>\n",
       "      <td>0.002690</td>\n",
       "      <td>0.002630</td>\n",
       "      <td>0.002743</td>\n",
       "      <td>0.002506</td>\n",
       "      <td>0.002737</td>\n",
       "      <td>0.002791</td>\n",
       "      <td>0.002590</td>\n",
       "      <td>0.002726</td>\n",
       "      <td>0.002484</td>\n",
       "      <td>0.002841</td>\n",
       "      <td>...</td>\n",
       "      <td>-0.002815</td>\n",
       "      <td>0.000849</td>\n",
       "      <td>0.001611</td>\n",
       "      <td>-0.000375</td>\n",
       "      <td>-0.000097</td>\n",
       "      <td>0.000300</td>\n",
       "      <td>-0.000327</td>\n",
       "      <td>-0.000777</td>\n",
       "      <td>0.000558</td>\n",
       "      <td>-0.001546</td>\n",
       "    </tr>\n",
       "    <tr>\n",
       "      <th>1</th>\n",
       "      <td>0.002719</td>\n",
       "      <td>0.002617</td>\n",
       "      <td>0.002737</td>\n",
       "      <td>0.002715</td>\n",
       "      <td>0.002794</td>\n",
       "      <td>0.002601</td>\n",
       "      <td>0.002636</td>\n",
       "      <td>0.002523</td>\n",
       "      <td>0.002591</td>\n",
       "      <td>0.002842</td>\n",
       "      <td>...</td>\n",
       "      <td>-0.000097</td>\n",
       "      <td>0.000300</td>\n",
       "      <td>-0.000327</td>\n",
       "      <td>-0.000777</td>\n",
       "      <td>0.000558</td>\n",
       "      <td>-0.001546</td>\n",
       "      <td>0.000802</td>\n",
       "      <td>-0.000707</td>\n",
       "      <td>-0.001041</td>\n",
       "      <td>0.001237</td>\n",
       "    </tr>\n",
       "    <tr>\n",
       "      <th>2</th>\n",
       "      <td>0.003065</td>\n",
       "      <td>0.002631</td>\n",
       "      <td>0.002710</td>\n",
       "      <td>0.002841</td>\n",
       "      <td>0.002624</td>\n",
       "      <td>0.002595</td>\n",
       "      <td>0.002575</td>\n",
       "      <td>0.002562</td>\n",
       "      <td>0.002568</td>\n",
       "      <td>0.002805</td>\n",
       "      <td>...</td>\n",
       "      <td>0.000558</td>\n",
       "      <td>-0.001546</td>\n",
       "      <td>0.000802</td>\n",
       "      <td>-0.000707</td>\n",
       "      <td>-0.001041</td>\n",
       "      <td>0.001237</td>\n",
       "      <td>0.000635</td>\n",
       "      <td>-0.001843</td>\n",
       "      <td>0.000294</td>\n",
       "      <td>0.004381</td>\n",
       "    </tr>\n",
       "    <tr>\n",
       "      <th>3</th>\n",
       "      <td>0.002838</td>\n",
       "      <td>0.002867</td>\n",
       "      <td>0.002596</td>\n",
       "      <td>0.002727</td>\n",
       "      <td>0.002702</td>\n",
       "      <td>0.002556</td>\n",
       "      <td>0.002524</td>\n",
       "      <td>0.002426</td>\n",
       "      <td>0.002515</td>\n",
       "      <td>0.002871</td>\n",
       "      <td>...</td>\n",
       "      <td>-0.001041</td>\n",
       "      <td>0.001237</td>\n",
       "      <td>0.000635</td>\n",
       "      <td>-0.001843</td>\n",
       "      <td>0.000294</td>\n",
       "      <td>0.004381</td>\n",
       "      <td>-0.002215</td>\n",
       "      <td>0.000085</td>\n",
       "      <td>-0.000257</td>\n",
       "      <td>0.000111</td>\n",
       "    </tr>\n",
       "    <tr>\n",
       "      <th>4</th>\n",
       "      <td>0.002715</td>\n",
       "      <td>0.002743</td>\n",
       "      <td>0.002506</td>\n",
       "      <td>0.002737</td>\n",
       "      <td>0.002791</td>\n",
       "      <td>0.002590</td>\n",
       "      <td>0.002726</td>\n",
       "      <td>0.002484</td>\n",
       "      <td>0.002841</td>\n",
       "      <td>0.002876</td>\n",
       "      <td>...</td>\n",
       "      <td>0.000294</td>\n",
       "      <td>0.004381</td>\n",
       "      <td>-0.002215</td>\n",
       "      <td>0.000085</td>\n",
       "      <td>-0.000257</td>\n",
       "      <td>0.000111</td>\n",
       "      <td>-0.001733</td>\n",
       "      <td>0.000205</td>\n",
       "      <td>0.000983</td>\n",
       "      <td>-0.000687</td>\n",
       "    </tr>\n",
       "  </tbody>\n",
       "</table>\n",
       "<p>5 rows × 61 columns</p>\n",
       "</div>"
      ],
      "text/plain": [
       "         0         1         2         3         4         5         6   \\\n",
       "0  0.002690  0.002630  0.002743  0.002506  0.002737  0.002791  0.002590   \n",
       "1  0.002719  0.002617  0.002737  0.002715  0.002794  0.002601  0.002636   \n",
       "2  0.003065  0.002631  0.002710  0.002841  0.002624  0.002595  0.002575   \n",
       "3  0.002838  0.002867  0.002596  0.002727  0.002702  0.002556  0.002524   \n",
       "4  0.002715  0.002743  0.002506  0.002737  0.002791  0.002590  0.002726   \n",
       "\n",
       "         7         8         9     ...           51        52        53  \\\n",
       "0  0.002726  0.002484  0.002841    ...    -0.002815  0.000849  0.001611   \n",
       "1  0.002523  0.002591  0.002842    ...    -0.000097  0.000300 -0.000327   \n",
       "2  0.002562  0.002568  0.002805    ...     0.000558 -0.001546  0.000802   \n",
       "3  0.002426  0.002515  0.002871    ...    -0.001041  0.001237  0.000635   \n",
       "4  0.002484  0.002841  0.002876    ...     0.000294  0.004381 -0.002215   \n",
       "\n",
       "         54        55        56        57        58        59        60  \n",
       "0 -0.000375 -0.000097  0.000300 -0.000327 -0.000777  0.000558 -0.001546  \n",
       "1 -0.000777  0.000558 -0.001546  0.000802 -0.000707 -0.001041  0.001237  \n",
       "2 -0.000707 -0.001041  0.001237  0.000635 -0.001843  0.000294  0.004381  \n",
       "3 -0.001843  0.000294  0.004381 -0.002215  0.000085 -0.000257  0.000111  \n",
       "4  0.000085 -0.000257  0.000111 -0.001733  0.000205  0.000983 -0.000687  \n",
       "\n",
       "[5 rows x 61 columns]"
      ]
     },
     "execution_count": 3,
     "metadata": {},
     "output_type": "execute_result"
    }
   ],
   "source": [
    "data.head()"
   ]
  },
  {
   "cell_type": "code",
   "execution_count": 4,
   "metadata": {},
   "outputs": [
    {
     "data": {
      "text/plain": [
       "(20536, 61)"
      ]
     },
     "execution_count": 4,
     "metadata": {},
     "output_type": "execute_result"
    }
   ],
   "source": [
    " data.shape"
   ]
  },
  {
   "cell_type": "code",
   "execution_count": 5,
   "metadata": {
    "collapsed": true
   },
   "outputs": [],
   "source": [
    "labels = pd.read_csv(\"./DataSets/labels.dat\",header=None)"
   ]
  },
  {
   "cell_type": "code",
   "execution_count": 6,
   "metadata": {},
   "outputs": [
    {
     "data": {
      "text/plain": [
       "(20536, 1)"
      ]
     },
     "execution_count": 6,
     "metadata": {},
     "output_type": "execute_result"
    }
   ],
   "source": [
    "labels.shape"
   ]
  },
  {
   "cell_type": "markdown",
   "metadata": {},
   "source": [
    "## 数据预处理，划分数据集，归一化"
   ]
  },
  {
   "cell_type": "code",
   "execution_count": 50,
   "metadata": {
    "collapsed": true
   },
   "outputs": [],
   "source": [
    "X_train, X_test, y_train, y_test = train_test_split(\n",
    "         data, labels, test_size=0.3, random_state=0)"
   ]
  },
  {
   "cell_type": "code",
   "execution_count": 51,
   "metadata": {
    "collapsed": true
   },
   "outputs": [],
   "source": [
    "sc = StandardScaler()\n",
    "sc.fit(X_train)\n",
    "X_train_std = sc.transform(X_train)\n",
    "X_test_std = sc.transform(X_test)"
   ]
  },
  {
   "cell_type": "markdown",
   "metadata": {},
   "source": [
    "## 感知器"
   ]
  },
  {
   "cell_type": "code",
   "execution_count": 36,
   "metadata": {},
   "outputs": [
    {
     "data": {
      "text/plain": [
       "Perceptron(alpha=0.0001, class_weight=None, eta0=0.1, fit_intercept=True,\n",
       "      max_iter=50, n_iter=None, n_jobs=4, penalty=None, random_state=0,\n",
       "      shuffle=True, tol=None, verbose=0, warm_start=False)"
      ]
     },
     "execution_count": 36,
     "metadata": {},
     "output_type": "execute_result"
    }
   ],
   "source": [
    "ppn = Perceptron(max_iter=50, eta0=0.1, random_state=0,n_jobs=4)\n",
    "ppn.fit(X_train_std, y_train.values.ravel())"
   ]
  },
  {
   "cell_type": "code",
   "execution_count": 32,
   "metadata": {},
   "outputs": [
    {
     "name": "stdout",
     "output_type": "stream",
     "text": [
      "准确率: 0.83\n"
     ]
    }
   ],
   "source": [
    "y_pred = ppn.predict(X_test_std)\n",
    "# print('错误分类的样本: %d' % ((y_test != y_pred).sum()))\n",
    "print('准确率: %.2f' % accuracy_score(y_test, y_pred))"
   ]
  },
  {
   "cell_type": "markdown",
   "metadata": {},
   "source": [
    "### K折交叉验证"
   ]
  },
  {
   "cell_type": "code",
   "execution_count": 35,
   "metadata": {},
   "outputs": [
    {
     "name": "stdout",
     "output_type": "stream",
     "text": [
      "CV accuracy scores: [0.8105007  0.78504348 0.77982609 0.82226087 0.85003479]\n",
      "CV accuracy: 0.810 +/- 0.026\n"
     ]
    }
   ],
   "source": [
    "scores = cross_val_score(estimator=ppn, \n",
    "                         X=data.values, \n",
    "                         y=labels.values.ravel(), \n",
    "                         cv=5)\n",
    "print('CV accuracy scores: %s' % scores)\n",
    "print('CV accuracy: %.3f +/- %.3f' % (np.mean(scores), np.std(scores)))"
   ]
  },
  {
   "cell_type": "markdown",
   "metadata": {},
   "source": [
    "## LR(逻辑回归)"
   ]
  },
  {
   "cell_type": "code",
   "execution_count": 51,
   "metadata": {},
   "outputs": [
    {
     "data": {
      "text/plain": [
       "LogisticRegression(C=1000.0, class_weight=None, dual=False,\n",
       "          fit_intercept=True, intercept_scaling=1, max_iter=100,\n",
       "          multi_class='ovr', n_jobs=1, penalty='l2', random_state=0,\n",
       "          solver='liblinear', tol=0.0001, verbose=0, warm_start=False)"
      ]
     },
     "execution_count": 51,
     "metadata": {},
     "output_type": "execute_result"
    }
   ],
   "source": [
    "lr = LogisticRegression(C=1000.0, random_state=0)\n",
    "lr.fit(X_train_std, y_train.values.ravel())"
   ]
  },
  {
   "cell_type": "code",
   "execution_count": 52,
   "metadata": {},
   "outputs": [
    {
     "name": "stdout",
     "output_type": "stream",
     "text": [
      "准确率: 0.84\n"
     ]
    }
   ],
   "source": [
    "y_pred2 = lr.predict(X_test_std)\n",
    "print('准确率: %.2f' % accuracy_score(y_test, y_pred2))"
   ]
  },
  {
   "cell_type": "markdown",
   "metadata": {},
   "source": [
    "### K折交叉验证"
   ]
  },
  {
   "cell_type": "code",
   "execution_count": 53,
   "metadata": {},
   "outputs": [
    {
     "name": "stdout",
     "output_type": "stream",
     "text": [
      "CV accuracy scores: [0.84840056 0.85530435 0.8413913  0.84382609 0.85212248]\n",
      "CV accuracy: 0.848 +/- 0.005\n"
     ]
    }
   ],
   "source": [
    "scores = cross_val_score(estimator=lr, \n",
    "                         X=data.values, \n",
    "                         y=labels.values.ravel(), \n",
    "                         cv=5)\n",
    "print('CV accuracy scores: %s' % scores)\n",
    "print('CV accuracy: %.3f +/- %.3f' % (np.mean(scores), np.std(scores)))"
   ]
  },
  {
   "cell_type": "markdown",
   "metadata": {},
   "source": [
    "### 模型评估（绘制ROC曲线和AUC面积）"
   ]
  },
  {
   "cell_type": "code",
   "execution_count": 102,
   "metadata": {},
   "outputs": [
    {
     "data": {
      "image/png": "[encoded data removed]",
      "text/plain": [
       "<Figure size 720x360 with 1 Axes>"
      ]
     },
     "metadata": {},
     "output_type": "display_data"
    }
   ],
   "source": [
    "cv = StratifiedKFold(n_splits=3)\n",
    "fig = plt.figure(figsize=(10, 5))\n",
    "\n",
    "mean_tpr = 0.0\n",
    "mean_fpr = np.linspace(0, 1, 100)\n",
    "all_tpr = []\n",
    "\n",
    "for i, (train, test) in enumerate(cv.split(data, labels)):\n",
    "    probas = lr.fit(data.values[train], labels.values[train].ravel()).predict_proba(data.values[test])\n",
    "    \n",
    "    # 计算ROC曲线和曲线区域\n",
    "    fpr, tpr, thresholds = roc_curve(labels.values[test], \n",
    "                                     probas[:, 1])\n",
    "    mean_tpr += interp(mean_fpr, fpr, tpr)\n",
    "    \n",
    "    mean_tpr[0] = 0.0\n",
    "    \n",
    "    roc_auc = auc(fpr, tpr)\n",
    "    plt.plot(fpr, \n",
    "             tpr, \n",
    "             lw=1, \n",
    "             label='ROC fold %d (area = %0.2f)' \n",
    "                    % (i+1, roc_auc))\n",
    "    \n",
    "plt.plot([0, 1], \n",
    "         [0, 1], \n",
    "         linestyle='--', \n",
    "         color=(0.6, 0.6, 0.6), \n",
    "         label='random guessing')\n",
    "\n",
    "mean_tpr /= i+1\n",
    "# mean_tpr[-1] = 1.0\n",
    "mean_auc = auc(mean_fpr, mean_tpr)\n",
    "plt.plot(mean_fpr, mean_tpr, 'k--',\n",
    "         label='mean ROC (area = %0.2f)' % mean_auc, lw=2)\n",
    "plt.plot([0, 0, 1], \n",
    "         [0, 1, 1], \n",
    "         lw=2, \n",
    "         linestyle=':', \n",
    "         color='black', \n",
    "         label='perfect performance')\n",
    "\n",
    "plt.xlabel('false positive rate')\n",
    "plt.ylabel('true positive rate')\n",
    "plt.title('Receiver Operator Characteristic')\n",
    "plt.legend(loc=\"lower right\")\n",
    "plt.tight_layout()"
   ]
  },
  {
   "cell_type": "code",
   "execution_count": 104,
   "metadata": {},
   "outputs": [
    {
     "name": "stdout",
     "output_type": "stream",
     "text": [
      "ROC AUC: 0.749\n",
      "Accuracy: 0.697\n"
     ]
    }
   ],
   "source": [
    "pipe_svc = lr.fit(X_train_std, y_train.values.ravel())\n",
    "y_pred2 = lr.predict(X_test_std)\n",
    "print('ROC AUC: %.3f' % roc_auc_score(y_true=y_test, y_score=y_pred2))\n",
    "print('Accuracy: %.3f' % accuracy_score(y_true=y_test, y_pred=y_pred2))"
   ]
  },
  {
   "cell_type": "code",
   "execution_count": null,
   "metadata": {
    "collapsed": true
   },
   "outputs": [],
   "source": []
  },
  {
   "cell_type": "code",
   "execution_count": null,
   "metadata": {
    "collapsed": true
   },
   "outputs": [],
   "source": []
  },
  {
   "cell_type": "markdown",
   "metadata": {},
   "source": [
    "## SVM"
   ]
  },
  {
   "cell_type": "code",
   "execution_count": 12,
   "metadata": {},
   "outputs": [
    {
     "data": {
      "text/plain": [
       "SVC(C=100.0, cache_size=200, class_weight=None, coef0=0.0,\n",
       "  decision_function_shape='ovr', degree=3, gamma=100.0, kernel='linear',\n",
       "  max_iter=-1, probability=False, random_state=0, shrinking=True,\n",
       "  tol=0.001, verbose=False)"
      ]
     },
     "execution_count": 12,
     "metadata": {},
     "output_type": "execute_result"
    }
   ],
   "source": [
    "svm = SVC(kernel='linear', C=100.0,gamma=100.0, random_state=0)\n",
    "svm.fit(X_train_std, y_train.values.ravel())"
   ]
  },
  {
   "cell_type": "code",
   "execution_count": 13,
   "metadata": {},
   "outputs": [
    {
     "name": "stdout",
     "output_type": "stream",
     "text": [
      "准确率: 0.85\n"
     ]
    }
   ],
   "source": [
    "y_pred3 = svm.predict(X_test_std)\n",
    "print('准确率: %.2f' % accuracy_score(y_test, y_pred3))"
   ]
  },
  {
   "cell_type": "markdown",
   "metadata": {},
   "source": [
    "### K折交叉验证"
   ]
  },
  {
   "cell_type": "code",
   "execution_count": 15,
   "metadata": {},
   "outputs": [
    {
     "name": "stdout",
     "output_type": "stream",
     "text": [
      "CV accuracy scores: [0.77227578 0.84733382 0.87611395]\n",
      "CV accuracy: 0.832 +/- 0.044\n"
     ]
    }
   ],
   "source": [
    "scores = cross_val_score(estimator=svm, \n",
    "                         X=data.values, \n",
    "                         y=labels.values.ravel(), \n",
    "                         cv=3)\n",
    "print('CV accuracy scores: %s' % scores)\n",
    "print('CV accuracy: %.3f +/- %.3f' % (np.mean(scores), np.std(scores)))"
   ]
  },
  {
   "cell_type": "markdown",
   "metadata": {},
   "source": [
    "## kernel SVM"
   ]
  },
  {
   "cell_type": "code",
   "execution_count": 16,
   "metadata": {},
   "outputs": [
    {
     "name": "stderr",
     "output_type": "stream",
     "text": [
      "D:\\Anaconda3\\lib\\site-packages\\sklearn\\utils\\validation.py:578: DataConversionWarning: A column-vector y was passed when a 1d array was expected. Please change the shape of y to (n_samples, ), for example using ravel().\n",
      "  y = column_or_1d(y, warn=True)\n"
     ]
    },
    {
     "data": {
      "text/plain": [
       "SVC(C=100.0, cache_size=200, class_weight=None, coef0=0.0,\n",
       "  decision_function_shape='ovr', degree=3, gamma=10.0, kernel='rbf',\n",
       "  max_iter=-1, probability=False, random_state=0, shrinking=True,\n",
       "  tol=0.001, verbose=False)"
      ]
     },
     "execution_count": 16,
     "metadata": {},
     "output_type": "execute_result"
    }
   ],
   "source": [
    "ksvm = SVC(kernel='rbf', random_state=0, gamma=10.0, C=100.0)\n",
    "ksvm.fit(X_train_std, y_train.values.ravel())"
   ]
  },
  {
   "cell_type": "code",
   "execution_count": 17,
   "metadata": {},
   "outputs": [
    {
     "name": "stdout",
     "output_type": "stream",
     "text": [
      "准确率: 0.94\n"
     ]
    }
   ],
   "source": [
    "y_pred4 = ksvm.predict(X_test_std)\n",
    "print('准确率: %.2f' % accuracy_score(y_test, y_pred4))"
   ]
  },
  {
   "cell_type": "markdown",
   "metadata": {},
   "source": [
    "### K折交叉验证"
   ]
  },
  {
   "cell_type": "code",
   "execution_count": 19,
   "metadata": {},
   "outputs": [
    {
     "name": "stdout",
     "output_type": "stream",
     "text": [
      "CV accuracy scores: [0.90870581 0.94726077 0.94711468]\n",
      "CV accuracy: 0.934 +/- 0.018\n"
     ]
    }
   ],
   "source": [
    "scores = cross_val_score(estimator=ksvm, \n",
    "                         X=data.values, \n",
    "                         y=labels.values.ravel(), \n",
    "                         cv=3,\n",
    "                         n_jobs=-1)\n",
    "print('CV accuracy scores: %s' % scores)\n",
    "print('CV accuracy: %.3f +/- %.3f' % (np.mean(scores), np.std(scores)))"
   ]
  },
  {
   "cell_type": "markdown",
   "metadata": {},
   "source": [
    "### 网格搜索"
   ]
  },
  {
   "cell_type": "code",
   "execution_count": 22,
   "metadata": {
    "collapsed": true
   },
   "outputs": [],
   "source": [
    "param = {\"gamma\":[0.01,0.1,1,10,100],\n",
    "             \"C\":[0.01,0.1,1,10,100]}"
   ]
  },
  {
   "cell_type": "code",
   "execution_count": 23,
   "metadata": {},
   "outputs": [],
   "source": [
    "grid_search = GridSearchCV(SVC(kernel='rbf',random_state=0),n_jobs=-1,param_grid=param,cv=3,refit='AUC',return_train_score=True)"
   ]
  },
  {
   "cell_type": "code",
   "execution_count": 26,
   "metadata": {},
   "outputs": [
    {
     "name": "stderr",
     "output_type": "stream",
     "text": [
      "D:\\Anaconda3\\lib\\site-packages\\sklearn\\utils\\validation.py:578: DataConversionWarning: A column-vector y was passed when a 1d array was expected. Please change the shape of y to (n_samples, ), for example using ravel().\n",
      "  y = column_or_1d(y, warn=True)\n"
     ]
    },
    {
     "name": "stdout",
     "output_type": "stream",
     "text": [
      "Wall time: 17min 57s\n"
     ]
    },
    {
     "data": {
      "text/plain": [
       "GridSearchCV(cv=3, error_score='raise',\n",
       "       estimator=SVC(C=1.0, cache_size=200, class_weight=None, coef0=0.0,\n",
       "  decision_function_shape='ovr', degree=3, gamma='auto', kernel='rbf',\n",
       "  max_iter=-1, probability=False, random_state=0, shrinking=True,\n",
       "  tol=0.001, verbose=False),\n",
       "       fit_params=None, iid=True, n_jobs=-1,\n",
       "       param_grid={'gamma': [0.01, 0.1, 1, 10, 100], 'C': [0.01, 0.1, 1, 10, 100]},\n",
       "       pre_dispatch='2*n_jobs', refit='AUC', return_train_score='warn',\n",
       "       scoring=None, verbose=0)"
      ]
     },
     "execution_count": 26,
     "metadata": {},
     "output_type": "execute_result"
    }
   ],
   "source": [
    "%time grid_search.fit(X_train_std, y_train.values.ravel())"
   ]
  },
  {
   "cell_type": "code",
   "execution_count": 28,
   "metadata": {},
   "outputs": [
    {
     "data": {
      "text/plain": [
       "0.9682782608695653"
      ]
     },
     "execution_count": 28,
     "metadata": {},
     "output_type": "execute_result"
    }
   ],
   "source": [
    "grid_search.best_score_"
   ]
  },
  {
   "cell_type": "code",
   "execution_count": 29,
   "metadata": {
    "scrolled": false
   },
   "outputs": [
    {
     "name": "stderr",
     "output_type": "stream",
     "text": [
      "D:\\Anaconda3\\lib\\site-packages\\sklearn\\utils\\deprecation.py:122: FutureWarning: You are accessing a training score ('split0_train_score'), which will not be available by default any more in 0.21. If you need training scores, please set return_train_score=True\n",
      "  warnings.warn(*warn_args, **warn_kwargs)\n",
      "D:\\Anaconda3\\lib\\site-packages\\sklearn\\utils\\deprecation.py:122: FutureWarning: You are accessing a training score ('split1_train_score'), which will not be available by default any more in 0.21. If you need training scores, please set return_train_score=True\n",
      "  warnings.warn(*warn_args, **warn_kwargs)\n",
      "D:\\Anaconda3\\lib\\site-packages\\sklearn\\utils\\deprecation.py:122: FutureWarning: You are accessing a training score ('split2_train_score'), which will not be available by default any more in 0.21. If you need training scores, please set return_train_score=True\n",
      "  warnings.warn(*warn_args, **warn_kwargs)\n",
      "D:\\Anaconda3\\lib\\site-packages\\sklearn\\utils\\deprecation.py:122: FutureWarning: You are accessing a training score ('mean_train_score'), which will not be available by default any more in 0.21. If you need training scores, please set return_train_score=True\n",
      "  warnings.warn(*warn_args, **warn_kwargs)\n",
      "D:\\Anaconda3\\lib\\site-packages\\sklearn\\utils\\deprecation.py:122: FutureWarning: You are accessing a training score ('std_train_score'), which will not be available by default any more in 0.21. If you need training scores, please set return_train_score=True\n",
      "  warnings.warn(*warn_args, **warn_kwargs)\n"
     ]
    },
    {
     "data": {
      "text/html": [
       "<div>\n",
       "<style scoped>\n",
       "    .dataframe tbody tr th:only-of-type {\n",
       "        vertical-align: middle;\n",
       "    }\n",
       "\n",
       "    .dataframe tbody tr th {\n",
       "        vertical-align: top;\n",
       "    }\n",
       "\n",
       "    .dataframe thead th {\n",
       "        text-align: right;\n",
       "    }\n",
       "</style>\n",
       "<table border=\"1\" class=\"dataframe\">\n",
       "  <thead>\n",
       "    <tr style=\"text-align: right;\">\n",
       "      <th></th>\n",
       "      <th>0</th>\n",
       "      <th>1</th>\n",
       "      <th>2</th>\n",
       "      <th>3</th>\n",
       "      <th>4</th>\n",
       "      <th>5</th>\n",
       "      <th>6</th>\n",
       "      <th>7</th>\n",
       "      <th>8</th>\n",
       "      <th>9</th>\n",
       "      <th>...</th>\n",
       "      <th>15</th>\n",
       "      <th>16</th>\n",
       "      <th>17</th>\n",
       "      <th>18</th>\n",
       "      <th>19</th>\n",
       "      <th>20</th>\n",
       "      <th>21</th>\n",
       "      <th>22</th>\n",
       "      <th>23</th>\n",
       "      <th>24</th>\n",
       "    </tr>\n",
       "  </thead>\n",
       "  <tbody>\n",
       "    <tr>\n",
       "      <th>mean_fit_time</th>\n",
       "      <td>19.966</td>\n",
       "      <td>15.1371</td>\n",
       "      <td>26.3067</td>\n",
       "      <td>44.1696</td>\n",
       "      <td>55.2653</td>\n",
       "      <td>12.2483</td>\n",
       "      <td>8.37407</td>\n",
       "      <td>22.1552</td>\n",
       "      <td>38.6768</td>\n",
       "      <td>58.1025</td>\n",
       "      <td>...</td>\n",
       "      <td>5.8138</td>\n",
       "      <td>3.72614</td>\n",
       "      <td>21.937</td>\n",
       "      <td>61.1921</td>\n",
       "      <td>88.9129</td>\n",
       "      <td>4.66577</td>\n",
       "      <td>3.55262</td>\n",
       "      <td>19.5507</td>\n",
       "      <td>54.3746</td>\n",
       "      <td>77.7482</td>\n",
       "    </tr>\n",
       "    <tr>\n",
       "      <th>std_fit_time</th>\n",
       "      <td>0.260116</td>\n",
       "      <td>0.286387</td>\n",
       "      <td>0.357297</td>\n",
       "      <td>1.07925</td>\n",
       "      <td>1.31338</td>\n",
       "      <td>0.48577</td>\n",
       "      <td>0.296241</td>\n",
       "      <td>0.151019</td>\n",
       "      <td>5.60874</td>\n",
       "      <td>0.749442</td>\n",
       "      <td>...</td>\n",
       "      <td>0.0816975</td>\n",
       "      <td>0.110919</td>\n",
       "      <td>2.90254</td>\n",
       "      <td>0.566498</td>\n",
       "      <td>3.6962</td>\n",
       "      <td>0.0329295</td>\n",
       "      <td>0.179281</td>\n",
       "      <td>4.09702</td>\n",
       "      <td>0.598503</td>\n",
       "      <td>2.30193</td>\n",
       "    </tr>\n",
       "    <tr>\n",
       "      <th>mean_score_time</th>\n",
       "      <td>6.51417</td>\n",
       "      <td>5.28134</td>\n",
       "      <td>8.49896</td>\n",
       "      <td>11.1509</td>\n",
       "      <td>14.5454</td>\n",
       "      <td>4.18054</td>\n",
       "      <td>2.38481</td>\n",
       "      <td>7.01459</td>\n",
       "      <td>10.2168</td>\n",
       "      <td>12.6683</td>\n",
       "      <td>...</td>\n",
       "      <td>1.25368</td>\n",
       "      <td>0.705425</td>\n",
       "      <td>6.17334</td>\n",
       "      <td>9.96431</td>\n",
       "      <td>11.6518</td>\n",
       "      <td>0.752429</td>\n",
       "      <td>0.501563</td>\n",
       "      <td>5.11066</td>\n",
       "      <td>8.67678</td>\n",
       "      <td>9.09448</td>\n",
       "    </tr>\n",
       "    <tr>\n",
       "      <th>std_score_time</th>\n",
       "      <td>0.0732122</td>\n",
       "      <td>0.253345</td>\n",
       "      <td>0.151998</td>\n",
       "      <td>0.154912</td>\n",
       "      <td>0.592961</td>\n",
       "      <td>0.148141</td>\n",
       "      <td>0.0712965</td>\n",
       "      <td>0.160958</td>\n",
       "      <td>0.51061</td>\n",
       "      <td>0.240406</td>\n",
       "      <td>...</td>\n",
       "      <td>0.171238</td>\n",
       "      <td>0.0438635</td>\n",
       "      <td>0.308693</td>\n",
       "      <td>0.203249</td>\n",
       "      <td>0.151433</td>\n",
       "      <td>0.011245</td>\n",
       "      <td>0.0205736</td>\n",
       "      <td>0.142252</td>\n",
       "      <td>0.0698625</td>\n",
       "      <td>0.693187</td>\n",
       "    </tr>\n",
       "    <tr>\n",
       "      <th>param_C</th>\n",
       "      <td>0.01</td>\n",
       "      <td>0.01</td>\n",
       "      <td>0.01</td>\n",
       "      <td>0.01</td>\n",
       "      <td>0.01</td>\n",
       "      <td>0.1</td>\n",
       "      <td>0.1</td>\n",
       "      <td>0.1</td>\n",
       "      <td>0.1</td>\n",
       "      <td>0.1</td>\n",
       "      <td>...</td>\n",
       "      <td>10</td>\n",
       "      <td>10</td>\n",
       "      <td>10</td>\n",
       "      <td>10</td>\n",
       "      <td>10</td>\n",
       "      <td>100</td>\n",
       "      <td>100</td>\n",
       "      <td>100</td>\n",
       "      <td>100</td>\n",
       "      <td>100</td>\n",
       "    </tr>\n",
       "    <tr>\n",
       "      <th>param_gamma</th>\n",
       "      <td>0.01</td>\n",
       "      <td>0.1</td>\n",
       "      <td>1</td>\n",
       "      <td>10</td>\n",
       "      <td>100</td>\n",
       "      <td>0.01</td>\n",
       "      <td>0.1</td>\n",
       "      <td>1</td>\n",
       "      <td>10</td>\n",
       "      <td>100</td>\n",
       "      <td>...</td>\n",
       "      <td>0.01</td>\n",
       "      <td>0.1</td>\n",
       "      <td>1</td>\n",
       "      <td>10</td>\n",
       "      <td>100</td>\n",
       "      <td>0.01</td>\n",
       "      <td>0.1</td>\n",
       "      <td>1</td>\n",
       "      <td>10</td>\n",
       "      <td>100</td>\n",
       "    </tr>\n",
       "    <tr>\n",
       "      <th>params</th>\n",
       "      <td>{'C': 0.01, 'gamma': 0.01}</td>\n",
       "      <td>{'C': 0.01, 'gamma': 0.1}</td>\n",
       "      <td>{'C': 0.01, 'gamma': 1}</td>\n",
       "      <td>{'C': 0.01, 'gamma': 10}</td>\n",
       "      <td>{'C': 0.01, 'gamma': 100}</td>\n",
       "      <td>{'C': 0.1, 'gamma': 0.01}</td>\n",
       "      <td>{'C': 0.1, 'gamma': 0.1}</td>\n",
       "      <td>{'C': 0.1, 'gamma': 1}</td>\n",
       "      <td>{'C': 0.1, 'gamma': 10}</td>\n",
       "      <td>{'C': 0.1, 'gamma': 100}</td>\n",
       "      <td>...</td>\n",
       "      <td>{'C': 10, 'gamma': 0.01}</td>\n",
       "      <td>{'C': 10, 'gamma': 0.1}</td>\n",
       "      <td>{'C': 10, 'gamma': 1}</td>\n",
       "      <td>{'C': 10, 'gamma': 10}</td>\n",
       "      <td>{'C': 10, 'gamma': 100}</td>\n",
       "      <td>{'C': 100, 'gamma': 0.01}</td>\n",
       "      <td>{'C': 100, 'gamma': 0.1}</td>\n",
       "      <td>{'C': 100, 'gamma': 1}</td>\n",
       "      <td>{'C': 100, 'gamma': 10}</td>\n",
       "      <td>{'C': 100, 'gamma': 100}</td>\n",
       "    </tr>\n",
       "    <tr>\n",
       "      <th>split0_test_score</th>\n",
       "      <td>0.810309</td>\n",
       "      <td>0.901085</td>\n",
       "      <td>0.88919</td>\n",
       "      <td>0.804257</td>\n",
       "      <td>0.620618</td>\n",
       "      <td>0.894616</td>\n",
       "      <td>0.945952</td>\n",
       "      <td>0.940526</td>\n",
       "      <td>0.875835</td>\n",
       "      <td>0.772538</td>\n",
       "      <td>...</td>\n",
       "      <td>0.951377</td>\n",
       "      <td>0.971202</td>\n",
       "      <td>0.968698</td>\n",
       "      <td>0.935935</td>\n",
       "      <td>0.861853</td>\n",
       "      <td>0.959933</td>\n",
       "      <td>0.968072</td>\n",
       "      <td>0.964942</td>\n",
       "      <td>0.935935</td>\n",
       "      <td>0.861853</td>\n",
       "    </tr>\n",
       "    <tr>\n",
       "      <th>split1_test_score</th>\n",
       "      <td>0.809265</td>\n",
       "      <td>0.901711</td>\n",
       "      <td>0.884599</td>\n",
       "      <td>0.80697</td>\n",
       "      <td>0.622496</td>\n",
       "      <td>0.894825</td>\n",
       "      <td>0.941569</td>\n",
       "      <td>0.931135</td>\n",
       "      <td>0.876043</td>\n",
       "      <td>0.775459</td>\n",
       "      <td>...</td>\n",
       "      <td>0.946995</td>\n",
       "      <td>0.962229</td>\n",
       "      <td>0.969324</td>\n",
       "      <td>0.932179</td>\n",
       "      <td>0.86081</td>\n",
       "      <td>0.952212</td>\n",
       "      <td>0.965568</td>\n",
       "      <td>0.965985</td>\n",
       "      <td>0.931761</td>\n",
       "      <td>0.86081</td>\n",
       "    </tr>\n",
       "    <tr>\n",
       "      <th>split2_test_score</th>\n",
       "      <td>0.813191</td>\n",
       "      <td>0.899603</td>\n",
       "      <td>0.882279</td>\n",
       "      <td>0.801085</td>\n",
       "      <td>0.621165</td>\n",
       "      <td>0.89355</td>\n",
       "      <td>0.9378</td>\n",
       "      <td>0.932164</td>\n",
       "      <td>0.86579</td>\n",
       "      <td>0.77249</td>\n",
       "      <td>...</td>\n",
       "      <td>0.945732</td>\n",
       "      <td>0.96723</td>\n",
       "      <td>0.966813</td>\n",
       "      <td>0.930495</td>\n",
       "      <td>0.85598</td>\n",
       "      <td>0.959716</td>\n",
       "      <td>0.96556</td>\n",
       "      <td>0.962221</td>\n",
       "      <td>0.92966</td>\n",
       "      <td>0.85598</td>\n",
       "    </tr>\n",
       "    <tr>\n",
       "      <th>mean_test_score</th>\n",
       "      <td>0.810922</td>\n",
       "      <td>0.9008</td>\n",
       "      <td>0.885357</td>\n",
       "      <td>0.804104</td>\n",
       "      <td>0.621426</td>\n",
       "      <td>0.89433</td>\n",
       "      <td>0.941774</td>\n",
       "      <td>0.934609</td>\n",
       "      <td>0.872557</td>\n",
       "      <td>0.773496</td>\n",
       "      <td>...</td>\n",
       "      <td>0.948035</td>\n",
       "      <td>0.966887</td>\n",
       "      <td>0.968278</td>\n",
       "      <td>0.93287</td>\n",
       "      <td>0.859548</td>\n",
       "      <td>0.957287</td>\n",
       "      <td>0.9664</td>\n",
       "      <td>0.964383</td>\n",
       "      <td>0.932452</td>\n",
       "      <td>0.859548</td>\n",
       "    </tr>\n",
       "    <tr>\n",
       "      <th>std_test_score</th>\n",
       "      <td>0.0016603</td>\n",
       "      <td>0.000883784</td>\n",
       "      <td>0.00287173</td>\n",
       "      <td>0.00240476</td>\n",
       "      <td>0.00078873</td>\n",
       "      <td>0.000558047</td>\n",
       "      <td>0.00333094</td>\n",
       "      <td>0.00420534</td>\n",
       "      <td>0.0047849</td>\n",
       "      <td>0.00138857</td>\n",
       "      <td>...</td>\n",
       "      <td>0.00241926</td>\n",
       "      <td>0.00367149</td>\n",
       "      <td>0.00106721</td>\n",
       "      <td>0.00227403</td>\n",
       "      <td>0.00255831</td>\n",
       "      <td>0.0035898</td>\n",
       "      <td>0.0011822</td>\n",
       "      <td>0.0015867</td>\n",
       "      <td>0.00260793</td>\n",
       "      <td>0.00255831</td>\n",
       "    </tr>\n",
       "    <tr>\n",
       "      <th>rank_test_score</th>\n",
       "      <td>22</td>\n",
       "      <td>15</td>\n",
       "      <td>17</td>\n",
       "      <td>23</td>\n",
       "      <td>25</td>\n",
       "      <td>16</td>\n",
       "      <td>9</td>\n",
       "      <td>10</td>\n",
       "      <td>18</td>\n",
       "      <td>24</td>\n",
       "      <td>...</td>\n",
       "      <td>8</td>\n",
       "      <td>2</td>\n",
       "      <td>1</td>\n",
       "      <td>11</td>\n",
       "      <td>19</td>\n",
       "      <td>7</td>\n",
       "      <td>3</td>\n",
       "      <td>5</td>\n",
       "      <td>12</td>\n",
       "      <td>19</td>\n",
       "    </tr>\n",
       "    <tr>\n",
       "      <th>split0_train_score</th>\n",
       "      <td>0.811437</td>\n",
       "      <td>0.90024</td>\n",
       "      <td>0.884587</td>\n",
       "      <td>0.803819</td>\n",
       "      <td>0.618178</td>\n",
       "      <td>0.894501</td>\n",
       "      <td>0.942398</td>\n",
       "      <td>0.938328</td>\n",
       "      <td>0.873109</td>\n",
       "      <td>0.780758</td>\n",
       "      <td>...</td>\n",
       "      <td>0.952937</td>\n",
       "      <td>0.980695</td>\n",
       "      <td>0.996139</td>\n",
       "      <td>0.999687</td>\n",
       "      <td>1</td>\n",
       "      <td>0.965981</td>\n",
       "      <td>0.98873</td>\n",
       "      <td>0.998226</td>\n",
       "      <td>1</td>\n",
       "      <td>1</td>\n",
       "    </tr>\n",
       "    <tr>\n",
       "      <th>split1_train_score</th>\n",
       "      <td>0.812689</td>\n",
       "      <td>0.900762</td>\n",
       "      <td>0.886779</td>\n",
       "      <td>0.803715</td>\n",
       "      <td>0.619639</td>\n",
       "      <td>0.894501</td>\n",
       "      <td>0.943546</td>\n",
       "      <td>0.939894</td>\n",
       "      <td>0.879265</td>\n",
       "      <td>0.779297</td>\n",
       "      <td>...</td>\n",
       "      <td>0.954503</td>\n",
       "      <td>0.981738</td>\n",
       "      <td>0.996452</td>\n",
       "      <td>0.999791</td>\n",
       "      <td>1</td>\n",
       "      <td>0.968173</td>\n",
       "      <td>0.988313</td>\n",
       "      <td>0.998122</td>\n",
       "      <td>1</td>\n",
       "      <td>1</td>\n",
       "    </tr>\n",
       "    <tr>\n",
       "      <th>split2_train_score</th>\n",
       "      <td>0.809683</td>\n",
       "      <td>0.903694</td>\n",
       "      <td>0.888251</td>\n",
       "      <td>0.805092</td>\n",
       "      <td>0.629278</td>\n",
       "      <td>0.896598</td>\n",
       "      <td>0.944804</td>\n",
       "      <td>0.9399</td>\n",
       "      <td>0.878235</td>\n",
       "      <td>0.780363</td>\n",
       "      <td>...</td>\n",
       "      <td>0.953881</td>\n",
       "      <td>0.981532</td>\n",
       "      <td>0.996765</td>\n",
       "      <td>0.999791</td>\n",
       "      <td>1</td>\n",
       "      <td>0.966507</td>\n",
       "      <td>0.988731</td>\n",
       "      <td>0.998539</td>\n",
       "      <td>1</td>\n",
       "      <td>1</td>\n",
       "    </tr>\n",
       "    <tr>\n",
       "      <th>mean_train_score</th>\n",
       "      <td>0.81127</td>\n",
       "      <td>0.901565</td>\n",
       "      <td>0.886539</td>\n",
       "      <td>0.804209</td>\n",
       "      <td>0.622365</td>\n",
       "      <td>0.8952</td>\n",
       "      <td>0.943583</td>\n",
       "      <td>0.939374</td>\n",
       "      <td>0.87687</td>\n",
       "      <td>0.780139</td>\n",
       "      <td>...</td>\n",
       "      <td>0.953774</td>\n",
       "      <td>0.981322</td>\n",
       "      <td>0.996452</td>\n",
       "      <td>0.999757</td>\n",
       "      <td>1</td>\n",
       "      <td>0.966887</td>\n",
       "      <td>0.988591</td>\n",
       "      <td>0.998296</td>\n",
       "      <td>1</td>\n",
       "      <td>1</td>\n",
       "    </tr>\n",
       "    <tr>\n",
       "      <th>std_train_score</th>\n",
       "      <td>0.00123302</td>\n",
       "      <td>0.00152008</td>\n",
       "      <td>0.00150537</td>\n",
       "      <td>0.000625936</td>\n",
       "      <td>0.00492447</td>\n",
       "      <td>0.000988921</td>\n",
       "      <td>0.000982524</td>\n",
       "      <td>0.000739359</td>\n",
       "      <td>0.00269244</td>\n",
       "      <td>0.000617089</td>\n",
       "      <td>...</td>\n",
       "      <td>0.00064353</td>\n",
       "      <td>0.000451148</td>\n",
       "      <td>0.000255746</td>\n",
       "      <td>4.91969e-05</td>\n",
       "      <td>0</td>\n",
       "      <td>0.000934168</td>\n",
       "      <td>0.000197045</td>\n",
       "      <td>0.000177433</td>\n",
       "      <td>0</td>\n",
       "      <td>0</td>\n",
       "    </tr>\n",
       "  </tbody>\n",
       "</table>\n",
       "<p>18 rows × 25 columns</p>\n",
       "</div>"
      ],
      "text/plain": [
       "                                            0                          1   \\\n",
       "mean_fit_time                           19.966                    15.1371   \n",
       "std_fit_time                          0.260116                   0.286387   \n",
       "mean_score_time                        6.51417                    5.28134   \n",
       "std_score_time                       0.0732122                   0.253345   \n",
       "param_C                                   0.01                       0.01   \n",
       "param_gamma                               0.01                        0.1   \n",
       "params              {'C': 0.01, 'gamma': 0.01}  {'C': 0.01, 'gamma': 0.1}   \n",
       "split0_test_score                     0.810309                   0.901085   \n",
       "split1_test_score                     0.809265                   0.901711   \n",
       "split2_test_score                     0.813191                   0.899603   \n",
       "mean_test_score                       0.810922                     0.9008   \n",
       "std_test_score                       0.0016603                0.000883784   \n",
       "rank_test_score                             22                         15   \n",
       "split0_train_score                    0.811437                    0.90024   \n",
       "split1_train_score                    0.812689                   0.900762   \n",
       "split2_train_score                    0.809683                   0.903694   \n",
       "mean_train_score                       0.81127                   0.901565   \n",
       "std_train_score                     0.00123302                 0.00152008   \n",
       "\n",
       "                                         2                         3   \\\n",
       "mean_fit_time                       26.3067                   44.1696   \n",
       "std_fit_time                       0.357297                   1.07925   \n",
       "mean_score_time                     8.49896                   11.1509   \n",
       "std_score_time                     0.151998                  0.154912   \n",
       "param_C                                0.01                      0.01   \n",
       "param_gamma                               1                        10   \n",
       "params              {'C': 0.01, 'gamma': 1}  {'C': 0.01, 'gamma': 10}   \n",
       "split0_test_score                   0.88919                  0.804257   \n",
       "split1_test_score                  0.884599                   0.80697   \n",
       "split2_test_score                  0.882279                  0.801085   \n",
       "mean_test_score                    0.885357                  0.804104   \n",
       "std_test_score                   0.00287173                0.00240476   \n",
       "rank_test_score                          17                        23   \n",
       "split0_train_score                 0.884587                  0.803819   \n",
       "split1_train_score                 0.886779                  0.803715   \n",
       "split2_train_score                 0.888251                  0.805092   \n",
       "mean_train_score                   0.886539                  0.804209   \n",
       "std_train_score                  0.00150537               0.000625936   \n",
       "\n",
       "                                           4                          5   \\\n",
       "mean_fit_time                         55.2653                    12.2483   \n",
       "std_fit_time                          1.31338                    0.48577   \n",
       "mean_score_time                       14.5454                    4.18054   \n",
       "std_score_time                       0.592961                   0.148141   \n",
       "param_C                                  0.01                        0.1   \n",
       "param_gamma                               100                       0.01   \n",
       "params              {'C': 0.01, 'gamma': 100}  {'C': 0.1, 'gamma': 0.01}   \n",
       "split0_test_score                    0.620618                   0.894616   \n",
       "split1_test_score                    0.622496                   0.894825   \n",
       "split2_test_score                    0.621165                    0.89355   \n",
       "mean_test_score                      0.621426                    0.89433   \n",
       "std_test_score                     0.00078873                0.000558047   \n",
       "rank_test_score                            25                         16   \n",
       "split0_train_score                   0.618178                   0.894501   \n",
       "split1_train_score                   0.619639                   0.894501   \n",
       "split2_train_score                   0.629278                   0.896598   \n",
       "mean_train_score                     0.622365                     0.8952   \n",
       "std_train_score                    0.00492447                0.000988921   \n",
       "\n",
       "                                          6                       7   \\\n",
       "mean_fit_time                        8.37407                 22.1552   \n",
       "std_fit_time                        0.296241                0.151019   \n",
       "mean_score_time                      2.38481                 7.01459   \n",
       "std_score_time                     0.0712965                0.160958   \n",
       "param_C                                  0.1                     0.1   \n",
       "param_gamma                              0.1                       1   \n",
       "params              {'C': 0.1, 'gamma': 0.1}  {'C': 0.1, 'gamma': 1}   \n",
       "split0_test_score                   0.945952                0.940526   \n",
       "split1_test_score                   0.941569                0.931135   \n",
       "split2_test_score                     0.9378                0.932164   \n",
       "mean_test_score                     0.941774                0.934609   \n",
       "std_test_score                    0.00333094              0.00420534   \n",
       "rank_test_score                            9                      10   \n",
       "split0_train_score                  0.942398                0.938328   \n",
       "split1_train_score                  0.943546                0.939894   \n",
       "split2_train_score                  0.944804                  0.9399   \n",
       "mean_train_score                    0.943583                0.939374   \n",
       "std_train_score                  0.000982524             0.000739359   \n",
       "\n",
       "                                         8                         9   \\\n",
       "mean_fit_time                       38.6768                   58.1025   \n",
       "std_fit_time                        5.60874                  0.749442   \n",
       "mean_score_time                     10.2168                   12.6683   \n",
       "std_score_time                      0.51061                  0.240406   \n",
       "param_C                                 0.1                       0.1   \n",
       "param_gamma                              10                       100   \n",
       "params              {'C': 0.1, 'gamma': 10}  {'C': 0.1, 'gamma': 100}   \n",
       "split0_test_score                  0.875835                  0.772538   \n",
       "split1_test_score                  0.876043                  0.775459   \n",
       "split2_test_score                   0.86579                   0.77249   \n",
       "mean_test_score                    0.872557                  0.773496   \n",
       "std_test_score                    0.0047849                0.00138857   \n",
       "rank_test_score                          18                        24   \n",
       "split0_train_score                 0.873109                  0.780758   \n",
       "split1_train_score                 0.879265                  0.779297   \n",
       "split2_train_score                 0.878235                  0.780363   \n",
       "mean_train_score                    0.87687                  0.780139   \n",
       "std_train_score                  0.00269244               0.000617089   \n",
       "\n",
       "                              ...                                   15  \\\n",
       "mean_fit_time                 ...                               5.8138   \n",
       "std_fit_time                  ...                            0.0816975   \n",
       "mean_score_time               ...                              1.25368   \n",
       "std_score_time                ...                             0.171238   \n",
       "param_C                       ...                                   10   \n",
       "param_gamma                   ...                                 0.01   \n",
       "params                        ...             {'C': 10, 'gamma': 0.01}   \n",
       "split0_test_score             ...                             0.951377   \n",
       "split1_test_score             ...                             0.946995   \n",
       "split2_test_score             ...                             0.945732   \n",
       "mean_test_score               ...                             0.948035   \n",
       "std_test_score                ...                           0.00241926   \n",
       "rank_test_score               ...                                    8   \n",
       "split0_train_score            ...                             0.952937   \n",
       "split1_train_score            ...                             0.954503   \n",
       "split2_train_score            ...                             0.953881   \n",
       "mean_train_score              ...                             0.953774   \n",
       "std_train_score               ...                           0.00064353   \n",
       "\n",
       "                                         16                     17  \\\n",
       "mean_fit_time                       3.72614                 21.937   \n",
       "std_fit_time                       0.110919                2.90254   \n",
       "mean_score_time                    0.705425                6.17334   \n",
       "std_score_time                    0.0438635               0.308693   \n",
       "param_C                                  10                     10   \n",
       "param_gamma                             0.1                      1   \n",
       "params              {'C': 10, 'gamma': 0.1}  {'C': 10, 'gamma': 1}   \n",
       "split0_test_score                  0.971202               0.968698   \n",
       "split1_test_score                  0.962229               0.969324   \n",
       "split2_test_score                   0.96723               0.966813   \n",
       "mean_test_score                    0.966887               0.968278   \n",
       "std_test_score                   0.00367149             0.00106721   \n",
       "rank_test_score                           2                      1   \n",
       "split0_train_score                 0.980695               0.996139   \n",
       "split1_train_score                 0.981738               0.996452   \n",
       "split2_train_score                 0.981532               0.996765   \n",
       "mean_train_score                   0.981322               0.996452   \n",
       "std_train_score                 0.000451148            0.000255746   \n",
       "\n",
       "                                        18                       19  \\\n",
       "mean_fit_time                      61.1921                  88.9129   \n",
       "std_fit_time                      0.566498                   3.6962   \n",
       "mean_score_time                    9.96431                  11.6518   \n",
       "std_score_time                    0.203249                 0.151433   \n",
       "param_C                                 10                       10   \n",
       "param_gamma                             10                      100   \n",
       "params              {'C': 10, 'gamma': 10}  {'C': 10, 'gamma': 100}   \n",
       "split0_test_score                 0.935935                 0.861853   \n",
       "split1_test_score                 0.932179                  0.86081   \n",
       "split2_test_score                 0.930495                  0.85598   \n",
       "mean_test_score                    0.93287                 0.859548   \n",
       "std_test_score                  0.00227403               0.00255831   \n",
       "rank_test_score                         11                       19   \n",
       "split0_train_score                0.999687                        1   \n",
       "split1_train_score                0.999791                        1   \n",
       "split2_train_score                0.999791                        1   \n",
       "mean_train_score                  0.999757                        1   \n",
       "std_train_score                4.91969e-05                        0   \n",
       "\n",
       "                                           20                        21  \\\n",
       "mean_fit_time                         4.66577                   3.55262   \n",
       "std_fit_time                        0.0329295                  0.179281   \n",
       "mean_score_time                      0.752429                  0.501563   \n",
       "std_score_time                       0.011245                 0.0205736   \n",
       "param_C                                   100                       100   \n",
       "param_gamma                              0.01                       0.1   \n",
       "params              {'C': 100, 'gamma': 0.01}  {'C': 100, 'gamma': 0.1}   \n",
       "split0_test_score                    0.959933                  0.968072   \n",
       "split1_test_score                    0.952212                  0.965568   \n",
       "split2_test_score                    0.959716                   0.96556   \n",
       "mean_test_score                      0.957287                    0.9664   \n",
       "std_test_score                      0.0035898                 0.0011822   \n",
       "rank_test_score                             7                         3   \n",
       "split0_train_score                   0.965981                   0.98873   \n",
       "split1_train_score                   0.968173                  0.988313   \n",
       "split2_train_score                   0.966507                  0.988731   \n",
       "mean_train_score                     0.966887                  0.988591   \n",
       "std_train_score                   0.000934168               0.000197045   \n",
       "\n",
       "                                        22                       23  \\\n",
       "mean_fit_time                      19.5507                  54.3746   \n",
       "std_fit_time                       4.09702                 0.598503   \n",
       "mean_score_time                    5.11066                  8.67678   \n",
       "std_score_time                    0.142252                0.0698625   \n",
       "param_C                                100                      100   \n",
       "param_gamma                              1                       10   \n",
       "params              {'C': 100, 'gamma': 1}  {'C': 100, 'gamma': 10}   \n",
       "split0_test_score                 0.964942                 0.935935   \n",
       "split1_test_score                 0.965985                 0.931761   \n",
       "split2_test_score                 0.962221                  0.92966   \n",
       "mean_test_score                   0.964383                 0.932452   \n",
       "std_test_score                   0.0015867               0.00260793   \n",
       "rank_test_score                          5                       12   \n",
       "split0_train_score                0.998226                        1   \n",
       "split1_train_score                0.998122                        1   \n",
       "split2_train_score                0.998539                        1   \n",
       "mean_train_score                  0.998296                        1   \n",
       "std_train_score                0.000177433                        0   \n",
       "\n",
       "                                          24  \n",
       "mean_fit_time                        77.7482  \n",
       "std_fit_time                         2.30193  \n",
       "mean_score_time                      9.09448  \n",
       "std_score_time                      0.693187  \n",
       "param_C                                  100  \n",
       "param_gamma                              100  \n",
       "params              {'C': 100, 'gamma': 100}  \n",
       "split0_test_score                   0.861853  \n",
       "split1_test_score                    0.86081  \n",
       "split2_test_score                    0.85598  \n",
       "mean_test_score                     0.859548  \n",
       "std_test_score                    0.00255831  \n",
       "rank_test_score                           19  \n",
       "split0_train_score                         1  \n",
       "split1_train_score                         1  \n",
       "split2_train_score                         1  \n",
       "mean_train_score                           1  \n",
       "std_train_score                            0  \n",
       "\n",
       "[18 rows x 25 columns]"
      ]
     },
     "execution_count": 29,
     "metadata": {},
     "output_type": "execute_result"
    }
   ],
   "source": [
    "pd.DataFrame(grid_search.cv_results_).T"
   ]
  },
  {
   "cell_type": "code",
   "execution_count": 30,
   "metadata": {},
   "outputs": [
    {
     "name": "stdout",
     "output_type": "stream",
     "text": [
      "准确率: 0.97\n"
     ]
    }
   ],
   "source": [
    "y_pred10 = grid_search.predict(X_test_std)\n",
    "print('准确率: %.2f' % accuracy_score(y_test, y_pred10))"
   ]
  },
  {
   "cell_type": "markdown",
   "metadata": {},
   "source": [
    "### 使用三维点图绘制C和gamma和AUC之间的关系"
   ]
  },
  {
   "cell_type": "code",
   "execution_count": 33,
   "metadata": {
    "scrolled": true
   },
   "outputs": [],
   "source": [
    "C_val = []\n",
    "for i in range(0,25):\n",
    "    C_val.append(grid_search.cv_results_[\"params\"][i][\"C\"])\n",
    "#C_val\n",
    "#np.array(C_val)"
   ]
  },
  {
   "cell_type": "code",
   "execution_count": 35,
   "metadata": {
    "scrolled": true
   },
   "outputs": [],
   "source": [
    "gamma_val = []\n",
    "for i in range(0,25):\n",
    "    gamma_val.append(grid_search.cv_results_[\"params\"][i][\"gamma\"])\n",
    "#gamma_val\n",
    "#np.array(gamma_val)"
   ]
  },
  {
   "cell_type": "code",
   "execution_count": 36,
   "metadata": {
    "scrolled": true
   },
   "outputs": [],
   "source": [
    "#for i in range(0,36):\n",
    "    #print(grid_search.cv_results_[\"mean_test_score\"][i])\n",
    "AUC_score = grid_search.cv_results_[\"mean_test_score\"]\n",
    "#AUC_score"
   ]
  },
  {
   "cell_type": "code",
   "execution_count": 37,
   "metadata": {},
   "outputs": [
    {
     "data": {
      "image/png": "[encoded data removed]",
      "text/plain": [
       "<Figure size 432x288 with 1 Axes>"
      ]
     },
     "metadata": {},
     "output_type": "display_data"
    }
   ],
   "source": [
    "from matplotlib import pyplot as plt\n",
    "import numpy as np\n",
    "from mpl_toolkits.mplot3d import Axes3D\n",
    "\n",
    "fig = plt.figure()\n",
    "ax = Axes3D(fig)\n",
    "\n",
    "\n",
    "X = C_val\n",
    "Y = gamma_val\n",
    "Z = AUC_score\n",
    "#X, Y = np.meshgrid(X, Y)\n",
    "\n",
    "#print(X)\n",
    "#print(Y)\n",
    "#print(Z)\n",
    "\n",
    "#ax.plot_surface(X, Y, Z,cmap='rainbow')\n",
    "\n",
    "for x,y,z in zip(X,Y,Z):\n",
    "    #print(x,y,z)\n",
    "    #ax.scatter(x, y, z, cmap='rainbow')\n",
    "    ax.scatter(x, y, z, cmap='rainbow')\n",
    "\n",
    "\n",
    "plt.title(\"Evaluation of figure\")\n",
    "ax.set_xlabel('Penalty parameter C of the error term')\n",
    "#ax.set_xlim(0.001, 10)\n",
    "ax.set_ylabel('gamma')\n",
    "#ax.set_ylim(0.001, 10)\n",
    "ax.set_zlabel('AUC')\n",
    "ax.set_zlim(0, 1)\n",
    "\n",
    "plt.show()"
   ]
  },
  {
   "cell_type": "code",
   "execution_count": null,
   "metadata": {
    "collapsed": true
   },
   "outputs": [],
   "source": []
  },
  {
   "cell_type": "markdown",
   "metadata": {},
   "source": [
    "### 遍历参数"
   ]
  },
  {
   "cell_type": "code",
   "execution_count": null,
   "metadata": {
    "collapsed": true
   },
   "outputs": [],
   "source": [
    "for gamma in [0.001,0.01,0.1,1,10,100]:\n",
    "    for C in [0.001,0.01,0.1,1,10,100]:\n",
    "        ksvm = SVC(kernel='rbf',gamma=gamma,C=C)\n",
    "        scores = cross_val_score(ksvm,X_train,y_train,cv=5)\n",
    "        score = scores.mean()\n",
    "        print(\"gamma / C / score:\",gamma,C,score)"
   ]
  },
  {
   "cell_type": "code",
   "execution_count": null,
   "metadata": {
    "collapsed": true
   },
   "outputs": [],
   "source": []
  },
  {
   "cell_type": "markdown",
   "metadata": {},
   "source": [
    "## 决策树"
   ]
  },
  {
   "cell_type": "code",
   "execution_count": 55,
   "metadata": {},
   "outputs": [
    {
     "data": {
      "text/plain": [
       "DecisionTreeClassifier(class_weight=None, criterion='entropy', max_depth=10,\n",
       "            max_features=None, max_leaf_nodes=None,\n",
       "            min_impurity_decrease=0.0, min_impurity_split=None,\n",
       "            min_samples_leaf=1, min_samples_split=2,\n",
       "            min_weight_fraction_leaf=0.0, presort=False, random_state=0,\n",
       "            splitter='best')"
      ]
     },
     "execution_count": 55,
     "metadata": {},
     "output_type": "execute_result"
    }
   ],
   "source": [
    "tree = DecisionTreeClassifier(criterion='entropy', max_depth=10, random_state=0)\n",
    "tree.fit(X_train_std, y_train.values.ravel())"
   ]
  },
  {
   "cell_type": "code",
   "execution_count": 56,
   "metadata": {},
   "outputs": [
    {
     "name": "stdout",
     "output_type": "stream",
     "text": [
      "准确率: 0.97\n"
     ]
    }
   ],
   "source": [
    "y_pred5 = tree.predict(X_test_std)\n",
    "print('准确率: %.2f' % accuracy_score(y_test, y_pred5))"
   ]
  },
  {
   "cell_type": "markdown",
   "metadata": {},
   "source": [
    "### K折交叉验证"
   ]
  },
  {
   "cell_type": "code",
   "execution_count": 41,
   "metadata": {},
   "outputs": [
    {
     "name": "stdout",
     "output_type": "stream",
     "text": [
      "CV accuracy scores: [0.95427987 0.95193572 0.96128561]\n",
      "CV accuracy: 0.956 +/- 0.004\n"
     ]
    }
   ],
   "source": [
    "scores = cross_val_score(estimator=tree, \n",
    "                         X=data.values, \n",
    "                         y=labels.values.ravel(), \n",
    "                         cv=3)\n",
    "print('CV accuracy scores: %s' % scores)\n",
    "print('CV accuracy: %.3f +/- %.3f' % (np.mean(scores), np.std(scores)))"
   ]
  },
  {
   "cell_type": "markdown",
   "metadata": {},
   "source": [
    "## 随机森林"
   ]
  },
  {
   "cell_type": "code",
   "execution_count": 64,
   "metadata": {},
   "outputs": [],
   "source": [
    "forest = RandomForestClassifier(criterion='entropy',\n",
    "                                n_estimators=10,\n",
    "                                random_state=1,\n",
    "                                n_jobs=-1)\n"
   ]
  },
  {
   "cell_type": "code",
   "execution_count": 66,
   "metadata": {},
   "outputs": [
    {
     "data": {
      "text/plain": [
       "RandomForestClassifier(bootstrap=True, class_weight=None, criterion='entropy',\n",
       "            max_depth=None, max_features='auto', max_leaf_nodes=None,\n",
       "            min_impurity_decrease=0.0, min_impurity_split=None,\n",
       "            min_samples_leaf=1, min_samples_split=2,\n",
       "            min_weight_fraction_leaf=0.0, n_estimators=10, n_jobs=-1,\n",
       "            oob_score=False, random_state=1, verbose=0, warm_start=False)"
      ]
     },
     "execution_count": 66,
     "metadata": {},
     "output_type": "execute_result"
    }
   ],
   "source": [
    "forest.fit(X_train_std, y_train.values.ravel())"
   ]
  },
  {
   "cell_type": "code",
   "execution_count": 67,
   "metadata": {},
   "outputs": [
    {
     "name": "stdout",
     "output_type": "stream",
     "text": [
      "准确率: 0.98\n"
     ]
    }
   ],
   "source": [
    "y_pred6 = forest.predict(X_test_std)\n",
    "print('准确率: %.2f' % accuracy_score(y_test, y_pred6))"
   ]
  },
  {
   "cell_type": "markdown",
   "metadata": {},
   "source": [
    "### K折交叉验证"
   ]
  },
  {
   "cell_type": "code",
   "execution_count": 68,
   "metadata": {},
   "outputs": [
    {
     "name": "stdout",
     "output_type": "stream",
     "text": [
      "CV accuracy scores: [0.97180836 0.95821768 0.97399562]\n",
      "CV accuracy: 0.968 +/- 0.007\n"
     ]
    }
   ],
   "source": [
    "scores = cross_val_score(estimator=forest, \n",
    "                         X=data.values, \n",
    "                         y=labels.values.ravel(), \n",
    "                         cv=3)\n",
    "print('CV accuracy scores: %s' % scores)\n",
    "print('CV accuracy: %.3f +/- %.3f' % (np.mean(scores), np.std(scores)))"
   ]
  },
  {
   "cell_type": "markdown",
   "metadata": {},
   "source": [
    "## KNN"
   ]
  },
  {
   "cell_type": "code",
   "execution_count": 59,
   "metadata": {},
   "outputs": [
    {
     "data": {
      "text/plain": [
       "KNeighborsClassifier(algorithm='auto', leaf_size=30, metric='minkowski',\n",
       "           metric_params=None, n_jobs=-1, n_neighbors=5, p=2,\n",
       "           weights='uniform')"
      ]
     },
     "execution_count": 59,
     "metadata": {},
     "output_type": "execute_result"
    }
   ],
   "source": [
    "knn = KNeighborsClassifier(n_neighbors=5, p=2, metric='minkowski',n_jobs=-1)\n",
    "knn.fit(X_train_std, y_train.values.ravel())"
   ]
  },
  {
   "cell_type": "code",
   "execution_count": 60,
   "metadata": {},
   "outputs": [
    {
     "name": "stdout",
     "output_type": "stream",
     "text": [
      "准确率: 0.96\n"
     ]
    }
   ],
   "source": [
    "y_pred7 = knn.predict(X_test_std)\n",
    "print('准确率: %.2f' % accuracy_score(y_test, y_pred7))"
   ]
  },
  {
   "cell_type": "markdown",
   "metadata": {},
   "source": [
    "### K折交叉验证"
   ]
  },
  {
   "cell_type": "code",
   "execution_count": 61,
   "metadata": {},
   "outputs": [
    {
     "name": "stdout",
     "output_type": "stream",
     "text": [
      "CV accuracy scores: [0.87540169 0.89408327 0.93075237]\n",
      "CV accuracy: 0.900 +/- 0.023\n"
     ]
    }
   ],
   "source": [
    "scores = cross_val_score(estimator=knn, \n",
    "                         X=data.values, \n",
    "                         y=labels.values.ravel(),  \n",
    "                         cv=3)\n",
    "print('CV accuracy scores: %s' % scores)\n",
    "print('CV accuracy: %.3f +/- %.3f' % (np.mean(scores), np.std(scores)))"
   ]
  },
  {
   "cell_type": "code",
   "execution_count": null,
   "metadata": {
    "collapsed": true
   },
   "outputs": [],
   "source": []
  }
 ],
 "metadata": {
  "kernelspec": {
   "display_name": "Python 3",
   "language": "python",
   "name": "python3"
  },
  "language_info": {
   "codemirror_mode": {
    "name": "ipython",
    "version": 3
   },
   "file_extension": ".py",
   "mimetype": "text/x-python",
   "name": "python",
   "nbconvert_exporter": "python",
   "pygments_lexer": "ipython3",
   "version": "3.6.5"
  }
 },
 "nbformat": 4,
 "nbformat_minor": 2
}
